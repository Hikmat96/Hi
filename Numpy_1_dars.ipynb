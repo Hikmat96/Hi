{
  "nbformat": 4,
  "nbformat_minor": 0,
  "metadata": {
    "colab": {
      "provenance": [],
      "authorship_tag": "ABX9TyM7emlZrLLhx50bBRJ/FtBI",
      "include_colab_link": true
    },
    "kernelspec": {
      "name": "python3",
      "display_name": "Python 3"
    },
    "language_info": {
      "name": "python"
    }
  },
  "cells": [
    {
      "cell_type": "markdown",
      "metadata": {
        "id": "view-in-github",
        "colab_type": "text"
      },
      "source": [
        "<a href=\"https://colab.research.google.com/github/Hikmat96/Hi/blob/main/Numpy_1_dars.ipynb\" target=\"_parent\"><img src=\"https://colab.research.google.com/assets/colab-badge.svg\" alt=\"Open In Colab\"/></a>"
      ]
    },
    {
      "cell_type": "code",
      "source": [
        "import numpy as np"
      ],
      "metadata": {
        "id": "C0lbzoTsJ1SU"
      },
      "execution_count": 10,
      "outputs": []
    },
    {
      "cell_type": "markdown",
      "source": [
        "\\Numpy kutibxonasini chaqirish"
      ],
      "metadata": {
        "id": "HIu3zGDBKTsf"
      }
    },
    {
      "cell_type": "code",
      "source": [
        "my_list = list(range(10000)) # Pyton list 0-9999 gacha Normal\n",
        "my_array = np.array(range(10000)) #numpy array (nassiv 0-9999) gacha Vektorlashgan"
      ],
      "metadata": {
        "id": "AcS1Vl1rKZzf"
      },
      "execution_count": 12,
      "outputs": []
    },
    {
      "cell_type": "code",
      "source": [
        "%time for _ in range(100): [x*2 for x in my_list]"
      ],
      "metadata": {
        "colab": {
          "base_uri": "https://localhost:8080/"
        },
        "id": "8Sk4be45LLdx",
        "outputId": "02c2c907-e943-493f-a059-4617a11e0af0"
      },
      "execution_count": 24,
      "outputs": [
        {
          "output_type": "stream",
          "name": "stdout",
          "text": [
            "CPU times: user 39.7 ms, sys: 0 ns, total: 39.7 ms\n",
            "Wall time: 40.5 ms\n"
          ]
        }
      ]
    },
    {
      "cell_type": "code",
      "source": [
        "%time for _ in range(100): my_array*2"
      ],
      "metadata": {
        "colab": {
          "base_uri": "https://localhost:8080/"
        },
        "id": "FMAu6X0oLdKE",
        "outputId": "d5ad03c2-f6d9-4203-ed85-32f82bae9e67"
      },
      "execution_count": 25,
      "outputs": [
        {
          "output_type": "stream",
          "name": "stdout",
          "text": [
            "CPU times: user 1.2 ms, sys: 21 µs, total: 1.22 ms\n",
            "Wall time: 1.23 ms\n"
          ]
        }
      ]
    },
    {
      "cell_type": "code",
      "source": [
        "40.5/1.23"
      ],
      "metadata": {
        "colab": {
          "base_uri": "https://localhost:8080/"
        },
        "id": "qrjE-BKFMSa9",
        "outputId": "a0b9fa91-c05c-4d56-94ef-25006eb7ba2d"
      },
      "execution_count": 26,
      "outputs": [
        {
          "output_type": "execute_result",
          "data": {
            "text/plain": [
              "32.926829268292686"
            ]
          },
          "metadata": {},
          "execution_count": 26
        }
      ]
    },
    {
      "cell_type": "code",
      "source": [
        "a = 5 # o'zgaruvchi\n",
        "avto = [\"tiko\", \"gentra\", \"cobalt\"] # ro'yhat\n",
        "avtos = {\"model\":\"chevralet\" } # lug'at"
      ],
      "metadata": {
        "id": "3jRjJ39mNhv3"
      },
      "execution_count": 35,
      "outputs": []
    },
    {
      "cell_type": "code",
      "source": [
        "array = [1, 2, 3, 4]"
      ],
      "metadata": {
        "id": "umNW6anEN539"
      },
      "execution_count": 27,
      "outputs": []
    },
    {
      "cell_type": "code",
      "source": [
        "arry2 = [[1,2,3], [4,5,6]]\n",
        "print(arry2)"
      ],
      "metadata": {
        "id": "QRDAcImMOGwe",
        "colab": {
          "base_uri": "https://localhost:8080/"
        },
        "outputId": "36d97cb3-0be0-4543-e786-cfd17bf475e6"
      },
      "execution_count": 44,
      "outputs": [
        {
          "output_type": "stream",
          "name": "stdout",
          "text": [
            "[[1, 2, 3], [4, 5, 6]]\n"
          ]
        }
      ]
    },
    {
      "cell_type": "code",
      "source": [
        "sug_usullar = np.array([\"tomchi\", \"yomgir\", \"pivot\", \"disktret\"])"
      ],
      "metadata": {
        "id": "2K_IA0TmO5Tq"
      },
      "execution_count": 46,
      "outputs": []
    },
    {
      "cell_type": "code",
      "source": [
        "fermer_sug_usullari = np.array([[\"paxtachi\", \"sholikor\", 'oqoltin'], ['tomchi', 'yomgir', 'pivot']])\n",
        "print(fermer_sug_usullari.ndim)"
      ],
      "metadata": {
        "colab": {
          "base_uri": "https://localhost:8080/"
        },
        "id": "o4ksrgNfQvI1",
        "outputId": "d4659eca-3ac1-492b-ed4d-56d177f4e942"
      },
      "execution_count": 48,
      "outputs": [
        {
          "output_type": "stream",
          "name": "stdout",
          "text": [
            "2\n"
          ]
        }
      ]
    },
    {
      "cell_type": "code",
      "source": [
        "hudud_fermer_maydon = np.array([[\"toshkent\", 'xorazm', 'buhoro'], [\"80 ga\", \"7 ga\", \"35 ga\", \"60 ga\"]])\n",
        "print(hudud_fermer_maydon.ndim)"
      ],
      "metadata": {
        "colab": {
          "base_uri": "https://localhost:8080/",
          "height": 176
        },
        "id": "15vhKT09QvMR",
        "outputId": "5cd6438c-cbf7-4d6d-e518-e00a4f3c2d9c"
      },
      "execution_count": 52,
      "outputs": [
        {
          "output_type": "error",
          "ename": "ValueError",
          "evalue": "setting an array element with a sequence. The requested array has an inhomogeneous shape after 1 dimensions. The detected shape was (2,) + inhomogeneous part.",
          "traceback": [
            "\u001b[0;31m---------------------------------------------------------------------------\u001b[0m",
            "\u001b[0;31mValueError\u001b[0m                                Traceback (most recent call last)",
            "\u001b[0;32m<ipython-input-52-3edfa07c8d8b>\u001b[0m in \u001b[0;36m<cell line: 0>\u001b[0;34m()\u001b[0m\n\u001b[0;32m----> 1\u001b[0;31m \u001b[0mhudud_fermer_maydon\u001b[0m \u001b[0;34m=\u001b[0m \u001b[0mnp\u001b[0m\u001b[0;34m.\u001b[0m\u001b[0marray\u001b[0m\u001b[0;34m(\u001b[0m\u001b[0;34m[\u001b[0m\u001b[0;34m[\u001b[0m\u001b[0;34m\"toshkent\"\u001b[0m\u001b[0;34m,\u001b[0m \u001b[0;34m'xorazm'\u001b[0m\u001b[0;34m,\u001b[0m \u001b[0;34m'buhoro'\u001b[0m\u001b[0;34m]\u001b[0m\u001b[0;34m,\u001b[0m \u001b[0;34m[\u001b[0m\u001b[0;34m\"80 ga\"\u001b[0m\u001b[0;34m,\u001b[0m \u001b[0;34m\"7 ga\"\u001b[0m\u001b[0;34m,\u001b[0m \u001b[0;34m\"35 ga\"\u001b[0m\u001b[0;34m,\u001b[0m \u001b[0;34m\"60 ga\"\u001b[0m\u001b[0;34m]\u001b[0m\u001b[0;34m]\u001b[0m\u001b[0;34m)\u001b[0m\u001b[0;34m\u001b[0m\u001b[0;34m\u001b[0m\u001b[0m\n\u001b[0m\u001b[1;32m      2\u001b[0m \u001b[0mprint\u001b[0m\u001b[0;34m(\u001b[0m\u001b[0mhudud_fermer_maydon\u001b[0m\u001b[0;34m.\u001b[0m\u001b[0mndim\u001b[0m\u001b[0;34m)\u001b[0m\u001b[0;34m\u001b[0m\u001b[0;34m\u001b[0m\u001b[0m\n",
            "\u001b[0;31mValueError\u001b[0m: setting an array element with a sequence. The requested array has an inhomogeneous shape after 1 dimensions. The detected shape was (2,) + inhomogeneous part."
          ]
        }
      ]
    },
    {
      "cell_type": "code",
      "source": [
        "import numpy as np\n",
        "\n",
        "# Create a NumPy array\n",
        "arr = np.array([1.5, 2.9, 5 ], dtype=np.int64)\n",
        "\n",
        "print(arr)"
      ],
      "metadata": {
        "colab": {
          "base_uri": "https://localhost:8080/"
        },
        "id": "sSWHoBbLUZQB",
        "outputId": "bdf6c3e5-1151-47b1-e578-f5b658904912"
      },
      "execution_count": 57,
      "outputs": [
        {
          "output_type": "stream",
          "name": "stdout",
          "text": [
            "[1 2 5]\n"
          ]
        }
      ]
    },
    {
      "cell_type": "markdown",
      "source": [
        "INDEXLASH VA KESISH"
      ],
      "metadata": {
        "id": "qSwz4LhKXj9A"
      }
    },
    {
      "cell_type": "code",
      "source": [
        "arr5 = np.array([10, 20, 30, 40, 50, 60, 70])\n",
        "print(arr5[2:5])"
      ],
      "metadata": {
        "colab": {
          "base_uri": "https://localhost:8080/"
        },
        "id": "spc_JQWuW_XZ",
        "outputId": "8dc418e2-6330-4b43-dda2-7c41a4768b58"
      },
      "execution_count": 60,
      "outputs": [
        {
          "output_type": "stream",
          "name": "stdout",
          "text": [
            "[30 40 50]\n"
          ]
        }
      ]
    },
    {
      "cell_type": "markdown",
      "source": [
        "VAZIFA:\n",
        "1. Numpy kutibhonasi bn tanishuv\n",
        "2. eskirgan funksiya va kutibxonalarni o'rganish\n",
        "3. list va array yaratish\n",
        "4. numpy arraylar 20 ta misol yaratish\n",
        "5. ma'lumot turlari va ularni aniqlash https://www.geeksforgeeks.org/numpy-data-types/\n",
        "6. indexlash va kesishga 20 ta misol"
      ],
      "metadata": {
        "id": "SOXMCMB6X0k6"
      }
    }
  ]
}